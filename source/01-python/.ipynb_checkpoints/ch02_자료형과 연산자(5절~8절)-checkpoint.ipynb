{
 "cells": [
  {
   "cell_type": "code",
   "execution_count": 1,
   "id": "5d6a987d",
   "metadata": {},
   "outputs": [
    {
     "data": {
      "text/html": [
       "\n",
       "<style>\n",
       "div.container{width:90% !important;}\n",
       "div.cell.code_cell.rendered{width:100%;}\n",
       "div.input_prompt{padding:0px;}\n",
       "div.CodeMirror {font-family:Consolas; font-size:12pt;}\n",
       "div.text_cell_render.rendered_html{font-size:12pt;}\n",
       "div.output {font-size:12pt; font-weight:bold;}\n",
       "div.input {font-family:Consolas; font-size:12pt;}\n",
       "div.prompt {min-width:70px;}\n",
       "div#toc-wrapper{padding-top:120px;}\n",
       "div.text_cell_render ul li{font-size:12pt;padding:5px;}\n",
       "table.dataframe{font-size:12px;}\n",
       "</style>\n"
      ],
      "text/plain": [
       "<IPython.core.display.HTML object>"
      ]
     },
     "metadata": {},
     "output_type": "display_data"
    }
   ],
   "source": [
    "from IPython.display import display, HTML\n",
    "display(HTML(\"\"\"\n",
    "<style>\n",
    "div.container{width:90% !important;}\n",
    "div.cell.code_cell.rendered{width:100%;}\n",
    "div.input_prompt{padding:0px;}\n",
    "div.CodeMirror {font-family:Consolas; font-size:12pt;}\n",
    "div.text_cell_render.rendered_html{font-size:12pt;}\n",
    "div.output {font-size:12pt; font-weight:bold;}\n",
    "div.input {font-family:Consolas; font-size:12pt;}\n",
    "div.prompt {min-width:70px;}\n",
    "div#toc-wrapper{padding-top:120px;}\n",
    "div.text_cell_render ul li{font-size:12pt;padding:5px;}\n",
    "table.dataframe{font-size:12px;}\n",
    "</style>\n",
    "\"\"\"))"
   ]
  },
  {
   "cell_type": "markdown",
   "id": "9b3996ad",
   "metadata": {},
   "source": [
    "<b><font size='7' color='red'>ch02. 자료형과 연산자 </font></b>\n",
    "\n",
    "# 5절. 연산자\n",
    "## 5.1 산술연산자 : +, -,*,/(결과 float),%(몫),%(나머지),**(제곱)"
   ]
  },
  {
   "cell_type": "code",
   "execution_count": 2,
   "id": "8dfa6f10",
   "metadata": {},
   "outputs": [
    {
     "name": "stdout",
     "output_type": "stream",
     "text": [
      "10*5승 = 100000\n",
      "5/2(결과 실수) = 2.5\n",
      "5//2(몫) = 2\n",
      "5%2(나머지) = 1\n"
     ]
    }
   ],
   "source": [
    "print(\"10*5승 =\", 10**5)\n",
    "print(\"5/2(결과 실수) =\", 5/2)\n",
    "print(\"5//2(몫) =\", 5//2)\n",
    "print(\"5%2(나머지) =\", 5%2)"
   ]
  },
  {
   "cell_type": "code",
   "execution_count": 3,
   "id": "d8fd6821",
   "metadata": {},
   "outputs": [
    {
     "name": "stdout",
     "output_type": "stream",
     "text": [
      "4**2 = 16\n"
     ]
    }
   ],
   "source": [
    "# 정수끼리 연산은 결과가 정수(단/제외)\n",
    "# 정수와 실수, 실수끼리 연산 결과는 실수\n",
    "print(\"4**2 =\", 4**2)"
   ]
  },
  {
   "cell_type": "code",
   "execution_count": 4,
   "id": "8dd7c100",
   "metadata": {},
   "outputs": [
    {
     "name": "stdout",
     "output_type": "stream",
     "text": [
      "정수를 입력하세요:8\n",
      "입력하신 수는 8, 2로 나눈 나머지는 0라서 짝수를 입력하셨습니다\n"
     ]
    }
   ],
   "source": [
    "# quiz1. 정수를 입력받아 짝수인지 홀수인지 여부를 출력\n",
    "num = int(input(\"정수를 입력하세요:\"))\n",
    "result = num % 2 # -1, 0, 1\n",
    "if result:\n",
    "    temp = \"홀수\"\n",
    "else:\n",
    "    temp = \"짝수\"\n",
    "print(f\"입력하신 수는 {num}, 2로 나눈 나머지는 {result}라서 {temp}를 입력하셨습니다\")"
   ]
  },
  {
   "cell_type": "code",
   "execution_count": 5,
   "id": "4c9b6f84",
   "metadata": {},
   "outputs": [
    {
     "name": "stdout",
     "output_type": "stream",
     "text": [
      "정수를 입력하세요:9\n",
      "5의 배수가 아닙니다\n"
     ]
    }
   ],
   "source": [
    "# quiz2. 정수를 입력받아 5의 배수인지 여부를 출력\n",
    "num = int(input(\"정수를 입력하세요:\"))\n",
    "if num%5:\n",
    "    print(\"5의 배수가 아닙니다\")\n",
    "else:\n",
    "    print(\"5의 배수입니다\")\n",
    "    "
   ]
  },
  {
   "cell_type": "code",
   "execution_count": 7,
   "id": "d478ca48",
   "metadata": {},
   "outputs": [
    {
     "name": "stdout",
     "output_type": "stream",
     "text": [
      "국어?99\n",
      "영어?100\n",
      "수학?100\n"
     ]
    }
   ],
   "source": [
    "# quiz3. 국,영,수 점수를 입력받아 다음셀에서 다음과 같이 출력하도록 구현하시오\n",
    "# 국어 :  99    영어 : 100     수학 : 99\n",
    "# 총점 : 298    평균 :  99.7\n",
    "kor = int(input(\"국어?\"))\n",
    "eng = int(input(\"영어?\"))\n",
    "mat = int(input(\"수학?\"))\n",
    "sum = kor + eng + mat\n",
    "avg = sum / 3"
   ]
  },
  {
   "cell_type": "code",
   "execution_count": 8,
   "id": "6e7c9f30",
   "metadata": {},
   "outputs": [
    {
     "name": "stdout",
     "output_type": "stream",
     "text": [
      "국어 :  99\t영어 : 100\t수학 : 100\n",
      "총점 : 299\t평균 :  99.7\n"
     ]
    }
   ],
   "source": [
    "print(\"국어 : {:3d}\\t영어 : {:3d}\\t수학 : {:3d}\".format(kor, eng, mat))\n",
    "print(\"총점 : {:3d}\\t평균 : {:5.1f}\".format(sum, avg))"
   ]
  },
  {
   "cell_type": "markdown",
   "id": "f615a432",
   "metadata": {},
   "source": [
    "## 5.2 할당연산자 : =,+=,-=,/=,*=,//=,%="
   ]
  },
  {
   "cell_type": "code",
   "execution_count": 10,
   "id": "cfea9c35",
   "metadata": {},
   "outputs": [
    {
     "name": "stdout",
     "output_type": "stream",
     "text": [
      "a = 15\n"
     ]
    }
   ],
   "source": [
    "a = 10\n",
    "a += 5 # a = a + 5와 동일\n",
    "print(f\"a = {a}\")"
   ]
  },
  {
   "cell_type": "code",
   "execution_count": 11,
   "id": "db7eaa5b",
   "metadata": {},
   "outputs": [
    {
     "name": "stdout",
     "output_type": "stream",
     "text": [
      "5Q빼기 : 10\n",
      "10배 : 100\n",
      "5나눈 몫 : 20\n"
     ]
    }
   ],
   "source": [
    "a -= 5 # a = a-5\n",
    "print(\"5Q빼기 :\",a)# 10\n",
    "a *= 10 # a = a*10\n",
    "print(\"10배 :\", a) #100\n",
    "a //= 5 # a = a//5\n",
    "print(\"5나눈 몫 :\",a)"
   ]
  },
  {
   "cell_type": "markdown",
   "id": "f8f5eb31",
   "metadata": {},
   "source": [
    "## 5.3 논리연산자 : &, and, |, or, not"
   ]
  },
  {
   "cell_type": "code",
   "execution_count": 20,
   "id": "1e3644ac",
   "metadata": {},
   "outputs": [
    {
     "name": "stdout",
     "output_type": "stream",
     "text": [
      "True\n",
      "0\n"
     ]
    }
   ],
   "source": [
    "# & : 논리연산자, 비트연산자\n",
    "print((10>3) & (10>5)) # 논리연산 True & True\n",
    "print( 12 & 1) # 비트 연산 1 1 0 0 (12)\n",
    "                     #    0 0 0 1  (1)\n",
    "                     # &: 0 0 0 0"
   ]
  },
  {
   "cell_type": "code",
   "execution_count": 21,
   "id": "4e179104",
   "metadata": {},
   "outputs": [
    {
     "name": "stdout",
     "output_type": "stream",
     "text": [
      "True\n",
      "0\n"
     ]
    }
   ],
   "source": [
    "# and : 논리연산자.  False로 판별되는 첫번째 항의 결과 반환\n",
    "         # 모든 항이 True면, 마지막항의 결과 반환\n",
    "print( (10>3) and (10>5) )\n",
    "print( 0 and 1 ) "
   ]
  },
  {
   "cell_type": "code",
   "execution_count": 23,
   "id": "4ae866ef",
   "metadata": {},
   "outputs": [
    {
     "name": "stdout",
     "output_type": "stream",
     "text": [
      "논리연산(연산자 앞뒤에 논리형일 때) : True\n",
      "비트연산(연산자 앞이나 뒤에 숫자일 때) : 3\n"
     ]
    }
   ],
   "source": [
    " # | : 논리연산, 비트연산\n",
    "result = True | False\n",
    "print('논리연산(연산자 앞뒤에 논리형일 때) :', result)\n",
    "result = False | 3 # 0000 (0)\n",
    "                   # 0011 (3)\n",
    "print('비트연산(연산자 앞이나 뒤에 숫자일 때) :', result)"
   ]
  },
  {
   "cell_type": "code",
   "execution_count": 24,
   "id": "535c0f94",
   "metadata": {},
   "outputs": [
    {
     "name": "stdout",
     "output_type": "stream",
     "text": [
      "[]\n",
      "Hong\n"
     ]
    }
   ],
   "source": [
    "# or : 논리연산. 참으로 판별되는 첫번째 항의 결과 반환\n",
    "          # 모든 항이 거짓이면 마지막항의 결과 반환\n",
    "print(False or 0 or '' or None or [])\n",
    "print(False or 0 or 'Hong' or None or [])"
   ]
  },
  {
   "cell_type": "markdown",
   "id": "24de5afe",
   "metadata": {},
   "source": [
    "## 5.4 비교연산자 : >, >=, <, <=, ==(같다), !=(다르다)"
   ]
  },
  {
   "cell_type": "code",
   "execution_count": 27,
   "id": "837e932a",
   "metadata": {},
   "outputs": [
    {
     "name": "stdout",
     "output_type": "stream",
     "text": [
      "True\n",
      "True\n",
      "True\n"
     ]
    }
   ],
   "source": [
    "# 비교연산자는 이항, 삼황, 사항, ... 다항연산자\n",
    "x = 95 \n",
    "print( (90<=x) & (x<=100) )\n",
    "print( 90 <= x <= 100)\n",
    "print( 90 <= x <= 100 > 10)"
   ]
  },
  {
   "cell_type": "code",
   "execution_count": null,
   "id": "a9888b81",
   "metadata": {},
   "outputs": [],
   "source": [
    "# 비교연산자의 우선순의가 비트연산자(|,&)의 우선순의 보다 낮다\n",
    "print( (10>5))"
   ]
  },
  {
   "cell_type": "code",
   "execution_count": 30,
   "id": "90656fbd",
   "metadata": {},
   "outputs": [
    {
     "name": "stdout",
     "output_type": "stream",
     "text": [
      "True\n",
      "True\n"
     ]
    }
   ],
   "source": [
    "address = \"목동\"\n",
    "age = 29\n",
    "# print( address==\"목동\" & age<=30 )\n",
    "print( (address==\"목동\") & (age<=30) )\n",
    "print( address==\"목동\" and age<=30 )"
   ]
  },
  {
   "cell_type": "code",
   "execution_count": null,
   "id": "dbf62243",
   "metadata": {},
   "outputs": [],
   "source": []
  },
  {
   "cell_type": "code",
   "execution_count": null,
   "id": "e1b82c8d",
   "metadata": {},
   "outputs": [],
   "source": []
  },
  {
   "cell_type": "markdown",
   "id": "14e48186",
   "metadata": {},
   "source": [
    "## 5.5 비트연산 : &,|,^(XOR),~(반대)"
   ]
  },
  {
   "cell_type": "code",
   "execution_count": null,
   "id": "5cbab919",
   "metadata": {},
   "outputs": [],
   "source": []
  },
  {
   "cell_type": "code",
   "execution_count": null,
   "id": "98dff413",
   "metadata": {},
   "outputs": [],
   "source": []
  },
  {
   "cell_type": "code",
   "execution_count": null,
   "id": "6e22911b",
   "metadata": {},
   "outputs": [],
   "source": []
  },
  {
   "cell_type": "code",
   "execution_count": null,
   "id": "5165608a",
   "metadata": {},
   "outputs": [],
   "source": []
  }
 ],
 "metadata": {
  "kernelspec": {
   "display_name": "Python 3 (ipykernel)",
   "language": "python",
   "name": "python3"
  },
  "language_info": {
   "codemirror_mode": {
    "name": "ipython",
    "version": 3
   },
   "file_extension": ".py",
   "mimetype": "text/x-python",
   "name": "python",
   "nbconvert_exporter": "python",
   "pygments_lexer": "ipython3",
   "version": "3.11.7"
  },
  "toc": {
   "base_numbering": 1,
   "nav_menu": {},
   "number_sections": false,
   "sideBar": true,
   "skip_h1_title": false,
   "title_cell": "Table of Contents",
   "title_sidebar": "Contents",
   "toc_cell": false,
   "toc_position": {},
   "toc_section_display": true,
   "toc_window_display": false
  }
 },
 "nbformat": 4,
 "nbformat_minor": 5
}
